{
 "cells": [
  {
   "cell_type": "code",
   "execution_count": 1,
   "metadata": {},
   "outputs": [],
   "source": [
    "import pandas as pd\n",
    "import matplotlib.pyplot as plt\n",
    "%matplotlib inline"
   ]
  },
  {
   "cell_type": "code",
   "execution_count": 2,
   "metadata": {},
   "outputs": [
    {
     "name": "stdout",
     "output_type": "stream",
     "text": [
      "Question 1\n",
      "% of short trips=71.3\n",
      "***\n"
     ]
    }
   ],
   "source": [
    "#Answer to 1\n",
    "jan = pd.read_csv('./clean-january.csv')\n",
    "\n",
    "jan['short_trip'] = jan['trip_distance'].apply(lambda x: 1 if x < 3 else 0)\n",
    "count = jan['short_trip'].sum()\n",
    "\n",
    "# These are what we want to access to store in a \n",
    "# the new dataframe.\n",
    "cols = ['short_trip', 'trip_distance', 'passenger_count', 'payment_amount', 'duration']\n",
    "new_cols = ['Short_Trip', 'Trip_distance', 'Passenger_count', 'Payment_amount', 'Duration']\n",
    "\n",
    "new_jan = pd.DataFrame()\n",
    "new_jan['Index'] = jan.index.tolist()\n",
    "new_jan[new_cols] = jan[cols]\n",
    "\n",
    "print('Question 1')\n",
    "print('% of short trips={0:.1f}'.format((count/(new_jan['Short_Trip'].shape[0]))*100))\n",
    "print('*'*3)"
   ]
  },
  {
   "cell_type": "code",
   "execution_count": 3,
   "metadata": {},
   "outputs": [
    {
     "name": "stdout",
     "output_type": "stream",
     "text": [
      "Question 2 median trip distance\n",
      "January: 1.82\n",
      "***\n",
      "Question 2 median trip duration\n",
      "January 11.0\n",
      "***\n"
     ]
    }
   ],
   "source": [
    "# Answer to question 2\n",
    "print('Question 2 median trip distance')\n",
    "print('January:', jan['trip_distance'].median())\n",
    "print('*'*3)\n",
    "print('Question 2 median trip duration')\n",
    "print('January', jan['duration'].median())\n",
    "print('*'*3)"
   ]
  },
  {
   "cell_type": "code",
   "execution_count": 4,
   "metadata": {},
   "outputs": [
    {
     "name": "stdout",
     "output_type": "stream",
     "text": [
      "Question 3\n",
      "42.9% of instances in ‘tripdistance’ are abnormal! (normal range is between 1.2 and 4.5)\n",
      "***\n"
     ]
    }
   ],
   "source": [
    "# Answer to question 3\n",
    "# The amount of normal values is the sum of the boolean values\n",
    "# of the series between 1.2 and 4.5\n",
    "normal_count = jan['trip_distance'].between(1.2, 4.5).sum()\n",
    "total_count = jan['trip_distance'].shape[0]\n",
    "print('Question 3')\n",
    "# The abnormal count is the total count\n",
    "# less the normal count.\n",
    "print(\"{0:.1f}% of instances in ‘tripdistance’ are abnormal! (normal range is between 1.2 and 4.5)\"\n",
    "      .format(100*(total_count-normal_count)/(total_count)))\n",
    "print('*'*3)"
   ]
  },
  {
   "cell_type": "code",
   "execution_count": 5,
   "metadata": {},
   "outputs": [],
   "source": [
    "# Costly operations in this cell, so we dont rerun the same op.\n",
    "jan['pickup_datetime'] = pd.to_datetime(jan['pickup_datetime'], format='%d/%m/%y %H:%M')\n",
    "jan['dropoff_datetime'] = pd.to_datetime(jan['dropoff_datetime'], format='%d/%m/%y %H:%M')"
   ]
  },
  {
   "cell_type": "code",
   "execution_count": 6,
   "metadata": {},
   "outputs": [
    {
     "data": {
      "image/png": "[encoded data removed]",
      "text/plain": [
       "<matplotlib.figure.Figure at 0x1c02b1b54a8>"
      ]
     },
     "metadata": {},
     "output_type": "display_data"
    },
    {
     "data": {
      "image/png": "[encoded data removed]",
      "text/plain": [
       "<matplotlib.figure.Figure at 0x1c02b48b080>"
      ]
     },
     "metadata": {},
     "output_type": "display_data"
    }
   ],
   "source": [
    "#Answer to question 4\n",
    "pickup = jan['pickup_datetime']\n",
    "\n",
    "#Turn the hours into a floating point representation so we may plot it.\n",
    "pickup_fp= pickup.apply(lambda x: x.hour + (x.minute/60))\n",
    "\n",
    "\n",
    "between_7_11 = pickup_fp[pickup_fp.between(7.00, 11.00)]\n",
    "between_7_11.plot(kind='box')\n",
    "plt.ylabel('Time as floating point hour')\n",
    "plt.xlabel('Values between 7:00 and 11:00')\n",
    "plt.show()\n",
    "\n",
    "between_12_15 = pickup_fp[pickup_fp.between(12.00, 15.00)]\n",
    "between_12_15.plot(kind='box')\n",
    "plt.ylabel('Time as floating point hour')\n",
    "plt.xlabel('Values between 12:00 and 15:00')\n",
    "plt.show()\n",
    "\n",
    "#Just in case we need it later\n",
    "jan['pickup_fp'] = pickup_fp"
   ]
  },
  {
   "cell_type": "code",
   "execution_count": 7,
   "metadata": {},
   "outputs": [
    {
     "name": "stdout",
     "output_type": "stream",
     "text": [
      "Question 5\n",
      "% of peak hour trips=6.2\n"
     ]
    }
   ],
   "source": [
    "# Answer to question 6\n",
    "def checkpeak(x):\n",
    "    if x.hour >= 7:\n",
    "        if x.hour <= 8:\n",
    "            if x.weekday() < 5:\n",
    "                return 1\n",
    "    return 0\n",
    "    \n",
    "jan['isPeak'] = jan['pickup_datetime'].apply(lambda x: checkpeak(x))\n",
    "jan['isPeak'] = jan['isPeak'] & jan['dropoff_datetime'].apply(lambda x: checkpeak(x))\n",
    "print('Question 5')\n",
    "print('% of peak hour trips={0:.01f}'.format(jan['isPeak'].sum()/jan.shape[0]*100))"
   ]
  },
  {
   "cell_type": "code",
   "execution_count": 41,
   "metadata": {},
   "outputs": [],
   "source": [
    "# Answer to question 6\n",
    "jan['dayofmonth'] = jan['pickup_datetime'].apply(lambda x: x.day)\n"
   ]
  },
  {
   "cell_type": "code",
   "execution_count": 42,
   "metadata": {},
   "outputs": [
    {
     "data": {
      "text/plain": [
       "0         1\n",
       "1         1\n",
       "2         1\n",
       "3         1\n",
       "4         1\n",
       "5         1\n",
       "6         1\n",
       "7         1\n",
       "8         1\n",
       "9         1\n",
       "10        1\n",
       "11        1\n",
       "12        1\n",
       "13        1\n",
       "14        1\n",
       "15        1\n",
       "16        1\n",
       "17        1\n",
       "18        1\n",
       "19        1\n",
       "20        1\n",
       "21        1\n",
       "22        1\n",
       "23        1\n",
       "24        1\n",
       "25        1\n",
       "26        1\n",
       "27        1\n",
       "28        1\n",
       "29        1\n",
       "         ..\n",
       "89214    31\n",
       "89215    31\n",
       "89216    31\n",
       "89217    31\n",
       "89218    31\n",
       "89219    31\n",
       "89220    31\n",
       "89221    31\n",
       "89222    31\n",
       "89223    31\n",
       "89224    31\n",
       "89225    31\n",
       "89226    31\n",
       "89227    31\n",
       "89228    31\n",
       "89229    31\n",
       "89230    31\n",
       "89231    31\n",
       "89232    31\n",
       "89233    31\n",
       "89234    31\n",
       "89235    31\n",
       "89236    31\n",
       "89237    31\n",
       "89238    31\n",
       "89239    31\n",
       "89240    31\n",
       "89241    31\n",
       "89242    31\n",
       "89243    31\n",
       "Name: dayofmonth, Length: 89244, dtype: int64"
      ]
     },
     "execution_count": 42,
     "metadata": {},
     "output_type": "execute_result"
    }
   ],
   "source": [
    "# Answer to question 7"
   ]
  },
  {
   "cell_type": "code",
   "execution_count": null,
   "metadata": {},
   "outputs": [],
   "source": [
    "# Answer to question 8"
   ]
  },
  {
   "cell_type": "code",
   "execution_count": 24,
   "metadata": {},
   "outputs": [],
   "source": [
    "# Answer to question 9"
   ]
  },
  {
   "cell_type": "code",
   "execution_count": 25,
   "metadata": {},
   "outputs": [],
   "source": [
    "# Answer to question 10"
   ]
  },
  {
   "cell_type": "code",
   "execution_count": null,
   "metadata": {},
   "outputs": [],
   "source": []
  },
  {
   "cell_type": "code",
   "execution_count": null,
   "metadata": {},
   "outputs": [],
   "source": []
  }
 ],
 "metadata": {
  "kernelspec": {
   "display_name": "Python 3",
   "language": "python",
   "name": "python3"
  },
  "language_info": {
   "codemirror_mode": {
    "name": "ipython",
    "version": 3
   },
   "file_extension": ".py",
   "mimetype": "text/x-python",
   "name": "python",
   "nbconvert_exporter": "python",
   "pygments_lexer": "ipython3",
   "version": "3.6.4"
  }
 },
 "nbformat": 4,
 "nbformat_minor": 1
}
