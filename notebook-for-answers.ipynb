{
 "cells": [
  {
   "cell_type": "code",
   "execution_count": 18,
   "metadata": {},
   "outputs": [],
   "source": [
    "import pandas as pd\n",
    "import matplotlib.pyplot as plt"
   ]
  },
  {
   "cell_type": "code",
   "execution_count": 19,
   "metadata": {},
   "outputs": [
    {
     "name": "stdout",
     "output_type": "stream",
     "text": [
      "Question 1\n",
      "% of short trips=71.3\n",
      "***\n"
     ]
    }
   ],
   "source": [
    "#Answer to 1\n",
    "jan = pd.read_csv('./clean-january.csv')\n",
    "# A little bit of a hack to use the dataframes' apply method\n",
    "# (which is faster than iteration)\n",
    "# and obtian the number of short trips.\n",
    "count = 0\n",
    "def dealx(x):\n",
    "    if x < 3:\n",
    "        global count\n",
    "        count += 1\n",
    "        return 1\n",
    "    else:\n",
    "        return 0\n",
    "    \n",
    "# This is a pretty efficient way of doing both creating\n",
    "# a new pandas dataframe, inserting the required value\n",
    "# and getting a count for the number of short trips.\n",
    "jan['short_trip'] = jan['trip_distance'].apply(lambda x: dealx(x))\n",
    "\n",
    "# These are what we want to access to store in a \n",
    "# the new dataframe.\n",
    "cols = ['short_trip', 'trip_distance', 'passenger_count', 'payment_amount', 'duration']\n",
    "new_cols = ['Short_Trip', 'Trip_distance', 'Passenger_count', 'Payment_amount', 'Duration']\n",
    "\n",
    "new_jan = pd.DataFrame()\n",
    "new_jan['Index'] = jan.index.tolist()\n",
    "new_jan[new_cols] = jan[cols]\n",
    "\n",
    "print('Question 1')\n",
    "print('% of short trips={0:.1f}'.format((count/(new_jan['Short_Trip'].shape[0]))*100))\n",
    "print('*'*3)"
   ]
  },
  {
   "cell_type": "code",
   "execution_count": 20,
   "metadata": {},
   "outputs": [
    {
     "name": "stdout",
     "output_type": "stream",
     "text": [
      "Question 2 median trip distance\n",
      "January: 1.82\n",
      "***\n",
      "Question 2 median trip duration\n",
      "January 11.0\n",
      "***\n"
     ]
    }
   ],
   "source": [
    "# Answer to question 2\n",
    "print('Question 2 median trip distance')\n",
    "print('January:', jan['trip_distance'].median())\n",
    "print('*'*3)\n",
    "print('Question 2 median trip duration')\n",
    "print('January', jan['duration'].median())\n",
    "print('*'*3)"
   ]
  },
  {
   "cell_type": "code",
   "execution_count": 21,
   "metadata": {},
   "outputs": [
    {
     "name": "stdout",
     "output_type": "stream",
     "text": [
      "Question 3\n",
      "42.9% of instances in ‘tripdistance’ are abnormal! (normal range is between 1.2 and 4.5)\n",
      "***\n"
     ]
    }
   ],
   "source": [
    "# Answer to question 3\n",
    "# The amount of normal values is the sum of the boolean values\n",
    "# of the series between 1.2 and 4.5\n",
    "normal_count = jan['trip_distance'].between(1.2, 4.5).sum()\n",
    "total_count = jan['trip_distance'].shape[0]\n",
    "print('Question 3')\n",
    "# The abnormal count is the total count\n",
    "# less the normal count.\n",
    "print(\"{0:.1f}% of instances in ‘tripdistance’ are abnormal! (normal range is between 1.2 and 4.5)\"\n",
    "      .format(100*(total_count-normal_count)/(total_count)))\n",
    "print('*'*3)"
   ]
  },
  {
   "cell_type": "code",
   "execution_count": 22,
   "metadata": {},
   "outputs": [],
   "source": [
    "# Answer to question 4\n",
    "jan['pickup_datetime'] = pd.to_datetime(jan['pickup_datetime'], format='%d/%m/%y %H:%M')"
   ]
  },
  {
   "cell_type": "code",
   "execution_count": 23,
   "metadata": {},
   "outputs": [
    {
     "data": {
      "text/plain": [
       "0       2016-01-01 00:00:00\n",
       "1       2016-01-01 00:01:00\n",
       "2       2016-01-01 00:02:00\n",
       "3       2016-01-01 00:03:00\n",
       "4       2016-01-01 00:04:00\n",
       "5       2016-01-01 00:04:00\n",
       "6       2016-01-01 00:05:00\n",
       "7       2016-01-01 00:05:00\n",
       "8       2016-01-01 00:06:00\n",
       "9       2016-01-01 00:06:00\n",
       "10      2016-01-01 00:06:00\n",
       "11      2016-01-01 00:07:00\n",
       "12      2016-01-01 00:08:00\n",
       "13      2016-01-01 00:08:00\n",
       "14      2016-01-01 00:09:00\n",
       "15      2016-01-01 00:09:00\n",
       "16      2016-01-01 00:09:00\n",
       "17      2016-01-01 00:09:00\n",
       "18      2016-01-01 00:10:00\n",
       "19      2016-01-01 00:10:00\n",
       "20      2016-01-01 00:10:00\n",
       "21      2016-01-01 00:11:00\n",
       "22      2016-01-01 00:11:00\n",
       "23      2016-01-01 00:11:00\n",
       "24      2016-01-01 00:11:00\n",
       "25      2016-01-01 00:11:00\n",
       "26      2016-01-01 00:12:00\n",
       "27      2016-01-01 00:12:00\n",
       "28      2016-01-01 00:12:00\n",
       "29      2016-01-01 00:13:00\n",
       "                ...        \n",
       "89214   2016-01-31 23:34:00\n",
       "89215   2016-01-31 23:34:00\n",
       "89216   2016-01-31 23:35:00\n",
       "89217   2016-01-31 23:35:00\n",
       "89218   2016-01-31 23:36:00\n",
       "89219   2016-01-31 23:37:00\n",
       "89220   2016-01-31 23:38:00\n",
       "89221   2016-01-31 23:38:00\n",
       "89222   2016-01-31 23:39:00\n",
       "89223   2016-01-31 23:39:00\n",
       "89224   2016-01-31 23:41:00\n",
       "89225   2016-01-31 23:42:00\n",
       "89226   2016-01-31 23:42:00\n",
       "89227   2016-01-31 23:43:00\n",
       "89228   2016-01-31 23:44:00\n",
       "89229   2016-01-31 23:45:00\n",
       "89230   2016-01-31 23:46:00\n",
       "89231   2016-01-31 23:46:00\n",
       "89232   2016-01-31 23:47:00\n",
       "89233   2016-01-31 23:48:00\n",
       "89234   2016-01-31 23:48:00\n",
       "89235   2016-01-31 23:49:00\n",
       "89236   2016-01-31 23:50:00\n",
       "89237   2016-01-31 23:52:00\n",
       "89238   2016-01-31 23:53:00\n",
       "89239   2016-01-31 23:54:00\n",
       "89240   2016-01-31 23:55:00\n",
       "89241   2016-01-31 23:56:00\n",
       "89242   2016-01-31 23:57:00\n",
       "89243   2016-01-31 23:58:00\n",
       "Name: pickup_datetime, Length: 89244, dtype: datetime64[ns]"
      ]
     },
     "execution_count": 23,
     "metadata": {},
     "output_type": "execute_result"
    }
   ],
   "source": [
    "vals"
   ]
  },
  {
   "cell_type": "code",
   "execution_count": 17,
   "metadata": {},
   "outputs": [
    {
     "data": {
      "text/plain": [
       "0       2016-01-01 00:00:00\n",
       "1       2016-01-01 00:01:00\n",
       "2       2016-01-01 00:02:00\n",
       "3       2016-01-01 00:03:00\n",
       "4       2016-01-01 00:04:00\n",
       "5       2016-01-01 00:04:00\n",
       "6       2016-01-01 00:05:00\n",
       "7       2016-01-01 00:05:00\n",
       "8       2016-01-01 00:06:00\n",
       "9       2016-01-01 00:06:00\n",
       "10      2016-01-01 00:06:00\n",
       "11      2016-01-01 00:07:00\n",
       "12      2016-01-01 00:08:00\n",
       "13      2016-01-01 00:08:00\n",
       "14      2016-01-01 00:09:00\n",
       "15      2016-01-01 00:09:00\n",
       "16      2016-01-01 00:09:00\n",
       "17      2016-01-01 00:09:00\n",
       "18      2016-01-01 00:10:00\n",
       "19      2016-01-01 00:10:00\n",
       "20      2016-01-01 00:10:00\n",
       "21      2016-01-01 00:11:00\n",
       "22      2016-01-01 00:11:00\n",
       "23      2016-01-01 00:11:00\n",
       "24      2016-01-01 00:11:00\n",
       "25      2016-01-01 00:11:00\n",
       "26      2016-01-01 00:12:00\n",
       "27      2016-01-01 00:12:00\n",
       "28      2016-01-01 00:12:00\n",
       "29      2016-01-01 00:13:00\n",
       "                ...        \n",
       "89214   2016-01-31 23:34:00\n",
       "89215   2016-01-31 23:34:00\n",
       "89216   2016-01-31 23:35:00\n",
       "89217   2016-01-31 23:35:00\n",
       "89218   2016-01-31 23:36:00\n",
       "89219   2016-01-31 23:37:00\n",
       "89220   2016-01-31 23:38:00\n",
       "89221   2016-01-31 23:38:00\n",
       "89222   2016-01-31 23:39:00\n",
       "89223   2016-01-31 23:39:00\n",
       "89224   2016-01-31 23:41:00\n",
       "89225   2016-01-31 23:42:00\n",
       "89226   2016-01-31 23:42:00\n",
       "89227   2016-01-31 23:43:00\n",
       "89228   2016-01-31 23:44:00\n",
       "89229   2016-01-31 23:45:00\n",
       "89230   2016-01-31 23:46:00\n",
       "89231   2016-01-31 23:46:00\n",
       "89232   2016-01-31 23:47:00\n",
       "89233   2016-01-31 23:48:00\n",
       "89234   2016-01-31 23:48:00\n",
       "89235   2016-01-31 23:49:00\n",
       "89236   2016-01-31 23:50:00\n",
       "89237   2016-01-31 23:52:00\n",
       "89238   2016-01-31 23:53:00\n",
       "89239   2016-01-31 23:54:00\n",
       "89240   2016-01-31 23:55:00\n",
       "89241   2016-01-31 23:56:00\n",
       "89242   2016-01-31 23:57:00\n",
       "89243   2016-01-31 23:58:00\n",
       "Name: pickup_datetime, Length: 89244, dtype: datetime64[ns]"
      ]
     },
     "execution_count": 17,
     "metadata": {},
     "output_type": "execute_result"
    }
   ],
   "source": [
    "vals[:,]"
   ]
  },
  {
   "cell_type": "code",
   "execution_count": null,
   "metadata": {},
   "outputs": [],
   "source": [
    "  "
   ]
  },
  {
   "cell_type": "code",
   "execution_count": null,
   "metadata": {},
   "outputs": [],
   "source": []
  },
  {
   "cell_type": "code",
   "execution_count": null,
   "metadata": {},
   "outputs": [],
   "source": []
  },
  {
   "cell_type": "code",
   "execution_count": null,
   "metadata": {},
   "outputs": [],
   "source": []
  },
  {
   "cell_type": "code",
   "execution_count": null,
   "metadata": {},
   "outputs": [],
   "source": []
  },
  {
   "cell_type": "code",
   "execution_count": null,
   "metadata": {},
   "outputs": [],
   "source": []
  }
 ],
 "metadata": {
  "kernelspec": {
   "display_name": "Python 3",
   "language": "python",
   "name": "python3"
  },
  "language_info": {
   "codemirror_mode": {
    "name": "ipython",
    "version": 3
   },
   "file_extension": ".py",
   "mimetype": "text/x-python",
   "name": "python",
   "nbconvert_exporter": "python",
   "pygments_lexer": "ipython3",
   "version": "3.6.4"
  }
 },
 "nbformat": 4,
 "nbformat_minor": 1
}
