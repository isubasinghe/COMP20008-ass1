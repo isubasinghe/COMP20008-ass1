{
 "cells": [
  {
   "cell_type": "code",
   "execution_count": 5,
   "metadata": {},
   "outputs": [],
   "source": [
    "import numpy as np\n",
    "import pandas as pd\n",
    "import matplotlib.pyplot as plt"
   ]
  },
  {
   "cell_type": "code",
   "execution_count": 48,
   "metadata": {},
   "outputs": [
    {
     "name": "stdout",
     "output_type": "stream",
     "text": [
      "Question 1\n",
      "% of short trips=71.3\n",
      "***\n"
     ]
    }
   ],
   "source": [
    "#Answer to 1\n",
    "raw_jan = pd.read_csv('./clean-january.csv')\n",
    "# A little bit of a hack to use the dataframes' apply method\n",
    "# (which is faster than iteration)\n",
    "# and obtian the number of short trips.\n",
    "count = 0\n",
    "def dealx(x):\n",
    "    if x < 3:\n",
    "        global count\n",
    "        count += 1\n",
    "        return 1\n",
    "    else:\n",
    "        return 0\n",
    "jan = raw_jan\n",
    "# This is a pretty efficient way of doing both creating\n",
    "# a new pandas dataframe, inserting the required value\n",
    "# and getting a count for the number of short trips.\n",
    "jan['Short_Trip'] = raw_jan['trip_distance'].apply(lambda x: dealx(x))\n",
    "print('Question 1')\n",
    "print('% of short trips={0:.1f}'.format((count/(jan['Short_Trip'].shape[0]))*100))\n",
    "print('*'*3)"
   ]
  },
  {
   "cell_type": "code",
   "execution_count": 41,
   "metadata": {},
   "outputs": [
    {
     "name": "stdout",
     "output_type": "stream",
     "text": [
      "Question 2 median trip distance\n",
      "January: 1.82\n",
      "***\n",
      "Question 2 median trip duration\n",
      "January 11.0\n",
      "***\n"
     ]
    }
   ],
   "source": [
    "print('Question 2 median trip distance')\n",
    "print('January:', jan['trip_distance'].median())\n",
    "print('*'*3)\n",
    "print('Question 2 median trip duration')\n",
    "print('January', jan['duration'].median())\n",
    "print('*'*3)"
   ]
  },
  {
   "cell_type": "code",
   "execution_count": 46,
   "metadata": {},
   "outputs": [
    {
     "name": "stdout",
     "output_type": "stream",
     "text": [
      "Question 3\n",
      "42.9% of instances in ‘tripdistance’ are abnormal! (normal range is between 1.2 and 4.5)\n",
      "***\n"
     ]
    }
   ],
   "source": [
    "# The amount of normal values is the sum of the boolean values\n",
    "# of the series between 1.2 and 4.5\n",
    "normal_count = jan['trip_distance'].between(1.2, 4.5).sum()\n",
    "total_count = jan['trip_distance'].shape[0]\n",
    "print('Question 3')\n",
    "print(\"{0:.1f}% of instances in ‘tripdistance’ are abnormal! (normal range is between 1.2 and 4.5)\"\n",
    "      .format(100*(total_count-normal_count)/(total_count)))\n",
    "print('*'*3)"
   ]
  },
  {
   "cell_type": "code",
   "execution_count": 49,
   "metadata": {},
   "outputs": [
    {
     "data": {
      "text/plain": [
       "Index(['pickup_datetime', 'dropoff_datetime', 'trip_distance',\n",
       "       'passenger_count', 'payment_amount', 'duration', 'Short_Trip'],\n",
       "      dtype='object')"
      ]
     },
     "execution_count": 49,
     "metadata": {},
     "output_type": "execute_result"
    }
   ],
   "source": []
  },
  {
   "cell_type": "code",
   "execution_count": 4,
   "metadata": {
    "collapsed": true
   },
   "outputs": [],
   "source": []
  },
  {
   "cell_type": "code",
   "execution_count": null,
   "metadata": {
    "collapsed": true
   },
   "outputs": [],
   "source": []
  },
  {
   "cell_type": "code",
   "execution_count": null,
   "metadata": {
    "collapsed": true
   },
   "outputs": [],
   "source": []
  },
  {
   "cell_type": "code",
   "execution_count": null,
   "metadata": {
    "collapsed": true
   },
   "outputs": [],
   "source": []
  },
  {
   "cell_type": "code",
   "execution_count": null,
   "metadata": {
    "collapsed": true
   },
   "outputs": [],
   "source": []
  },
  {
   "cell_type": "code",
   "execution_count": null,
   "metadata": {
    "collapsed": true
   },
   "outputs": [],
   "source": []
  },
  {
   "cell_type": "code",
   "execution_count": null,
   "metadata": {
    "collapsed": true
   },
   "outputs": [],
   "source": []
  }
 ],
 "metadata": {
  "kernelspec": {
   "display_name": "Python 3",
   "language": "python",
   "name": "python3"
  },
  "language_info": {
   "codemirror_mode": {
    "name": "ipython",
    "version": 3
   },
   "file_extension": ".py",
   "mimetype": "text/x-python",
   "name": "python",
   "nbconvert_exporter": "python",
   "pygments_lexer": "ipython3",
   "version": "3.6.4"
  }
 },
 "nbformat": 4,
 "nbformat_minor": 1
}
