{
 "cells": [
  {
   "cell_type": "code",
   "execution_count": 1,
   "metadata": {},
   "outputs": [
    {
     "name": "stderr",
     "output_type": "stream",
     "text": [
      "C:\\ProgramData\\Anaconda3\\lib\\site-packages\\h5py\\__init__.py:34: FutureWarning: Conversion of the second argument of issubdtype from `float` to `np.floating` is deprecated. In future, it will be treated as `np.float64 == np.dtype(float).type`.\n",
      "  from ._conv import register_converters as _register_converters\n"
     ]
    }
   ],
   "source": [
    "import tensorflow as tf\n",
    "import numpy as np\n",
    "import pandas as pd\n",
    "from scipy.stats import pearsonr\n",
    "from sklearn.model_selection import train_test_split\n",
    "import matplotlib.pyplot as plt\n",
    "%matplotlib inline"
   ]
  },
  {
   "cell_type": "code",
   "execution_count": null,
   "metadata": {
    "collapsed": true
   },
   "outputs": [],
   "source": []
  },
  {
   "cell_type": "code",
   "execution_count": 2,
   "metadata": {
    "collapsed": true
   },
   "outputs": [],
   "source": [
    "def clean_data(df):\n",
    "    df['incidents'] = df['incidents'].apply(lambda x: int(x.replace(',', '')))\n",
    "    df['rate'] = df['rate'].apply(lambda x: float(x.replace(',', '')))\n",
    "    return df"
   ]
  },
  {
   "cell_type": "code",
   "execution_count": 3,
   "metadata": {
    "collapsed": true
   },
   "outputs": [],
   "source": [
    "def set_game_cols(df):\n",
    "    df.columns = ['lga', 'lga_code', 'reg', 'net', 'dis_score', 'dis_rank_s', 'dis_rank_c', 'dis_rank_m', 'advdis_score', 'advdis_rank_s', 'advdis_rank_c', 'advdis_rank_m', 'pop', 'per_venue', 'per_1000_adults', 'per_adult', 'workforce', 'unemployed', 'urate']\n",
    "    return df"
   ]
  },
  {
   "cell_type": "code",
   "execution_count": 4,
   "metadata": {
    "collapsed": true
   },
   "outputs": [],
   "source": [
    "def filter_lga(df, col='lga'):\n",
    "    df[col] = df[col].apply(lambda x: x.upper())\n",
    "    df[col] = df[col].apply(lambda x: \n",
    "                            x.replace('CITY', '')\n",
    "                            .replace('OF', '')\n",
    "                            .replace('-', ' ')\n",
    "                            .replace('RURAL', '')\n",
    "                            .replace(\"SHIRE\", '')\n",
    "                            .strip())\n",
    "    return df"
   ]
  },
  {
   "cell_type": "code",
   "execution_count": 5,
   "metadata": {
    "collapsed": true
   },
   "outputs": [],
   "source": [
    "def common_cols(*args, col='lga'):\n",
    "    if len(args) < 2:\n",
    "        print(\"Need more than 1\")\n",
    "        return -1\n",
    "    ddf = args[0]\n",
    "    ndf = args[1]\n",
    "    common = set(ddf[col]).intersection(set(ndf[col]))\n",
    "    for i in range(3,len(args)):\n",
    "        ndf = args[i]\n",
    "        common = common.intersection(set(ndf[col]))\n",
    "    return common"
   ]
  },
  {
   "cell_type": "code",
   "execution_count": 6,
   "metadata": {},
   "outputs": [
    {
     "name": "stdout",
     "output_type": "stream",
     "text": [
      "<class 'pandas.core.frame.DataFrame'>\n",
      "Int64Index: 68 entries, 0 to 67\n",
      "Data columns (total 22 columns):\n",
      "lga                68 non-null object\n",
      "lga_code           68 non-null object\n",
      "reg                68 non-null int64\n",
      "net                68 non-null object\n",
      "dis_score          68 non-null float64\n",
      "dis_rank_s         68 non-null object\n",
      "dis_rank_c         68 non-null object\n",
      "dis_rank_m         68 non-null object\n",
      "advdis_score       68 non-null object\n",
      "advdis_rank_s      68 non-null object\n",
      "advdis_rank_c      68 non-null object\n",
      "advdis_rank_m      68 non-null object\n",
      "pop                68 non-null object\n",
      "per_venue          68 non-null float64\n",
      "per_1000_adults    68 non-null object\n",
      "per_adult          68 non-null float64\n",
      "workforce          68 non-null object\n",
      "unemployed         68 non-null object\n",
      "urate              68 non-null float64\n",
      "year               68 non-null int64\n",
      "incidents          68 non-null int64\n",
      "rate               68 non-null float64\n",
      "dtypes: float64(5), int64(3), object(14)\n",
      "memory usage: 12.2+ KB\n"
     ]
    },
    {
     "data": {
      "text/html": [
       "<div>\n",
       "<style>\n",
       "    .dataframe thead tr:only-child th {\n",
       "        text-align: right;\n",
       "    }\n",
       "\n",
       "    .dataframe thead th {\n",
       "        text-align: left;\n",
       "    }\n",
       "\n",
       "    .dataframe tbody tr th {\n",
       "        vertical-align: top;\n",
       "    }\n",
       "</style>\n",
       "<table border=\"1\" class=\"dataframe\">\n",
       "  <thead>\n",
       "    <tr style=\"text-align: right;\">\n",
       "      <th></th>\n",
       "      <th>lga</th>\n",
       "      <th>lga_code</th>\n",
       "      <th>reg</th>\n",
       "      <th>net</th>\n",
       "      <th>dis_score</th>\n",
       "      <th>dis_rank_s</th>\n",
       "      <th>dis_rank_c</th>\n",
       "      <th>dis_rank_m</th>\n",
       "      <th>advdis_score</th>\n",
       "      <th>advdis_rank_s</th>\n",
       "      <th>...</th>\n",
       "      <th>pop</th>\n",
       "      <th>per_venue</th>\n",
       "      <th>per_1000_adults</th>\n",
       "      <th>per_adult</th>\n",
       "      <th>workforce</th>\n",
       "      <th>unemployed</th>\n",
       "      <th>urate</th>\n",
       "      <th>year</th>\n",
       "      <th>incidents</th>\n",
       "      <th>rate</th>\n",
       "    </tr>\n",
       "  </thead>\n",
       "  <tbody>\n",
       "    <tr>\n",
       "      <th>0</th>\n",
       "      <td>WHITTLESEA</td>\n",
       "      <td>M26</td>\n",
       "      <td>1</td>\n",
       "      <td>106,994,642.75</td>\n",
       "      <td>988.60</td>\n",
       "      <td>38</td>\n",
       "      <td>-</td>\n",
       "      <td>5</td>\n",
       "      <td>983.36</td>\n",
       "      <td>44</td>\n",
       "      <td>...</td>\n",
       "      <td>157,370</td>\n",
       "      <td>15737.0</td>\n",
       "      <td>4</td>\n",
       "      <td>679.89</td>\n",
       "      <td>111,495</td>\n",
       "      <td>8,151</td>\n",
       "      <td>7.31</td>\n",
       "      <td>161360</td>\n",
       "      <td>11637</td>\n",
       "      <td>5529.1</td>\n",
       "    </tr>\n",
       "    <tr>\n",
       "      <th>1</th>\n",
       "      <td>NILLUMBIK</td>\n",
       "      <td>M16</td>\n",
       "      <td>1</td>\n",
       "      <td>8,298,522.61</td>\n",
       "      <td>1098.26</td>\n",
       "      <td>80</td>\n",
       "      <td>-</td>\n",
       "      <td>31</td>\n",
       "      <td>1,099.03</td>\n",
       "      <td>78</td>\n",
       "      <td>...</td>\n",
       "      <td>48,614</td>\n",
       "      <td>24307.0</td>\n",
       "      <td>2</td>\n",
       "      <td>170.70</td>\n",
       "      <td>39,288</td>\n",
       "      <td>1,022</td>\n",
       "      <td>2.60</td>\n",
       "      <td>123037</td>\n",
       "      <td>2023</td>\n",
       "      <td>3207.5</td>\n",
       "    </tr>\n",
       "    <tr>\n",
       "      <th>2</th>\n",
       "      <td>ARARAT</td>\n",
       "      <td>C43</td>\n",
       "      <td>0</td>\n",
       "      <td>4,921,777.36</td>\n",
       "      <td>950.51</td>\n",
       "      <td>11</td>\n",
       "      <td>9</td>\n",
       "      <td>-</td>\n",
       "      <td>938.42</td>\n",
       "      <td>11</td>\n",
       "      <td>...</td>\n",
       "      <td>8,712</td>\n",
       "      <td>4356.0</td>\n",
       "      <td>10</td>\n",
       "      <td>564.94</td>\n",
       "      <td>5,616</td>\n",
       "      <td>308</td>\n",
       "      <td>5.48</td>\n",
       "      <td>108918</td>\n",
       "      <td>958</td>\n",
       "      <td>8802.1</td>\n",
       "    </tr>\n",
       "    <tr>\n",
       "      <th>3</th>\n",
       "      <td>NORTHERN GRAMPIANS</td>\n",
       "      <td>C14</td>\n",
       "      <td>0</td>\n",
       "      <td>4,183,804.74</td>\n",
       "      <td>937.59</td>\n",
       "      <td>6</td>\n",
       "      <td>4</td>\n",
       "      <td>-</td>\n",
       "      <td>925.61</td>\n",
       "      <td>5</td>\n",
       "      <td>...</td>\n",
       "      <td>9,131</td>\n",
       "      <td>4566.0</td>\n",
       "      <td>9</td>\n",
       "      <td>458.19</td>\n",
       "      <td>5,742</td>\n",
       "      <td>290</td>\n",
       "      <td>5.05</td>\n",
       "      <td>121020</td>\n",
       "      <td>885</td>\n",
       "      <td>7804.9</td>\n",
       "    </tr>\n",
       "    <tr>\n",
       "      <th>4</th>\n",
       "      <td>GREATER GEELONG</td>\n",
       "      <td>C21</td>\n",
       "      <td>0</td>\n",
       "      <td>114,136,381.74</td>\n",
       "      <td>992.90</td>\n",
       "      <td>40</td>\n",
       "      <td>34</td>\n",
       "      <td>-</td>\n",
       "      <td>980.37</td>\n",
       "      <td>39</td>\n",
       "      <td>...</td>\n",
       "      <td>185,673</td>\n",
       "      <td>7141.0</td>\n",
       "      <td>7</td>\n",
       "      <td>614.72</td>\n",
       "      <td>121,497</td>\n",
       "      <td>7,578</td>\n",
       "      <td>6.24</td>\n",
       "      <td>163377</td>\n",
       "      <td>17139</td>\n",
       "      <td>7222.1</td>\n",
       "    </tr>\n",
       "  </tbody>\n",
       "</table>\n",
       "<p>5 rows × 22 columns</p>\n",
       "</div>"
      ],
      "text/plain": [
       "                  lga lga_code  reg             net  dis_score dis_rank_s  \\\n",
       "0          WHITTLESEA      M26    1  106,994,642.75     988.60         38   \n",
       "1           NILLUMBIK      M16    1    8,298,522.61    1098.26         80   \n",
       "2              ARARAT      C43    0    4,921,777.36     950.51         11   \n",
       "3  NORTHERN GRAMPIANS      C14    0    4,183,804.74     937.59          6   \n",
       "4     GREATER GEELONG      C21    0  114,136,381.74     992.90         40   \n",
       "\n",
       "  dis_rank_c dis_rank_m advdis_score advdis_rank_s   ...        pop per_venue  \\\n",
       "0          -          5       983.36            44   ...    157,370   15737.0   \n",
       "1          -         31     1,099.03            78   ...     48,614   24307.0   \n",
       "2          9          -       938.42            11   ...      8,712    4356.0   \n",
       "3          4          -       925.61             5   ...      9,131    4566.0   \n",
       "4         34          -       980.37            39   ...    185,673    7141.0   \n",
       "\n",
       "  per_1000_adults  per_adult workforce  unemployed urate    year  incidents  \\\n",
       "0               4     679.89   111,495       8,151  7.31  161360      11637   \n",
       "1               2     170.70    39,288       1,022  2.60  123037       2023   \n",
       "2              10     564.94     5,616         308  5.48  108918        958   \n",
       "3               9     458.19     5,742         290  5.05  121020        885   \n",
       "4               7     614.72   121,497       7,578  6.24  163377      17139   \n",
       "\n",
       "     rate  \n",
       "0  5529.1  \n",
       "1  3207.5  \n",
       "2  8802.1  \n",
       "3  7804.9  \n",
       "4  7222.1  \n",
       "\n",
       "[5 rows x 22 columns]"
      ]
     },
     "execution_count": 6,
     "metadata": {},
     "output_type": "execute_result"
    }
   ],
   "source": [
    "df = pd.read_csv('./gambling-2017.csv')\n",
    "df = set_game_cols(df)\n",
    "df = filter_lga(df, col='lga')\n",
    "crime = pd.read_csv('./crime.csv')\n",
    "crime.columns =  ['year', 'lga', 'offence', 'sub', 'subsub', 'incidents', 'rate']\n",
    "crime = clean_data(crime)\n",
    "crime17 = crime[crime['year']==2017]\n",
    "crime17 = crime17.groupby('lga').sum().reset_index()\n",
    "\n",
    "common = common_cols(df, crime17, col='lga')\n",
    "\n",
    "crime17 = crime17[crime17['lga'].isin(common)]\n",
    "df = df[df['lga'].isin(common)]\n",
    "\n",
    "df = df.merge(crime17, on='lga')\n",
    "\n",
    "\n",
    "df['reg'] = df['reg'].apply(lambda x: 1 if \"M\" in x else 0)\n",
    "df['dis_score'] = df['dis_score'].apply(lambda x: float(x))\n",
    "df['per_venue'] = df['per_venue'].apply(lambda x: np.nan if '-' in x else float(x.replace(',', '')))\n",
    "df['per_adult'] = df['per_adult'].apply(lambda x: np.nan if '-' in x else float(x))\n",
    "df['urate'] = df['urate'].apply(lambda x: np.nan if '-' in x else float(x.replace('%', '')))\n",
    "df = df.dropna()\n",
    "df.info()\n",
    "df.head()\n"
   ]
  },
  {
   "cell_type": "code",
   "execution_count": 22,
   "metadata": {},
   "outputs": [],
   "source": [
    "\n",
    "def norm(df):\n",
    "    df_min = df.min()\n",
    "    df_max = df.max()\n",
    "    return (df-df_min)/(df_max-df_min)\n",
    "\n",
    "df['ndis_score'] = norm(df['dis_score'])\n",
    "\n",
    "x = df[['rate', 'ndis_score', 'per_venue', 'reg', 'urate']].as_matrix()\n",
    "\n",
    "\n",
    "\n",
    "y = df['per_adult'].values\n",
    "y = y.reshape((len(y), 1))\n",
    "X_train, X_test, y_train, y_test = train_test_split(x, y, test_size=0.33, random_state=42)"
   ]
  },
  {
   "cell_type": "code",
   "execution_count": 30,
   "metadata": {
    "collapsed": true
   },
   "outputs": [],
   "source": [
    "no_epochs = 160000"
   ]
  },
  {
   "cell_type": "code",
   "execution_count": 31,
   "metadata": {
    "collapsed": true
   },
   "outputs": [],
   "source": [
    "X = tf.placeholder(tf.float32, shape=[None, x.shape[-1]])\n",
    "Y = tf.placeholder(tf.float32, shape=[None, 1])\n",
    "keep_prob = tf.placeholder(tf.float32)"
   ]
  },
  {
   "cell_type": "code",
   "execution_count": null,
   "metadata": {},
   "outputs": [
    {
     "name": "stdout",
     "output_type": "stream",
     "text": [
      "0 1359.5181830630097\n",
      "100 1156.7407636824898\n",
      "200 883.7810389245076\n",
      "300 694.3163245425018\n",
      "400 547.9138449561078\n",
      "500 465.615626927666\n",
      "600 220.4897531260615\n",
      "700 211.88411541482674\n",
      "800 206.28068449600886\n",
      "900 201.6175178328804\n",
      "1000 187.6175544009001\n",
      "1100 185.99248673148776\n",
      "1200 187.73826867145038\n",
      "1300 182.20928758704144\n",
      "1400 184.79643252165422\n",
      "1500 177.6512086553159\n"
     ]
    }
   ],
   "source": [
    "sx = [] # Sampled x values\n",
    "sy = [] # Sampled y values\n",
    "real = [] # Real values\n",
    "predicted = [] # Predicted values\n",
    "\n",
    "# Leaky ReLu should be used to stop vanishing gradient problem\n",
    "input_layer = tf.contrib.layers.fully_connected(X, 8, activation_fn=tf.nn.leaky_relu)\n",
    "# This dropout layer is crucial to stop overfitting, since the data points are very small.\n",
    "dropout_layer = tf.contrib.layers.dropout(input_layer, keep_prob=keep_prob)\n",
    "hidden_layer = tf.contrib.layers.fully_connected(dropout_layer, 4, activation_fn=tf.nn.leaky_relu)\n",
    "output_layer = tf.contrib.layers.fully_connected(dropout_layer, 1, activation_fn=tf.nn.leaky_relu)\n",
    "\n",
    "loss = tf.reduce_mean(tf.abs(Y - output_layer))\n",
    "\n",
    "#learning rate is set to a default of 0.001, this is fine, I would probably go lower but\n",
    "# I want this to finish in a reasonable time.\n",
    "train = tf.train.AdamOptimizer().minimize(loss)\n",
    "\n",
    "init = tf.global_variables_initializer()\n",
    "\n",
    "with tf.Session() as sess:\n",
    "    sess.run(init)\n",
    "    for i in range(no_epochs):\n",
    "        if i%100 == 0:\n",
    "            # We are testing the accuracy so we need fully connected layers here.\n",
    "            out = sess.run(output_layer, feed_dict={X: X_test, keep_prob: 1.0})\n",
    "            correct = sess.run(tf.reduce_mean(tf.abs(out - y_test)))\n",
    "            sx.append(i)\n",
    "            sy.append(correct)\n",
    "            print(i, correct)\n",
    "            \n",
    "        # Dropout of 0.5 is good to help stop over-fitting. \n",
    "        sess.run(train, feed_dict={X: X_train, Y: y_train, keep_prob: 0.5})\n",
    "    \n",
    "    # Let us compare how we went against the test set\n",
    "    out = sess.run(output_layer, feed_dict={X: X_test, keep_prob: 1.0})\n",
    "    for i in range(len(y_test)):\n",
    "        real.append(y_test[i][0])\n",
    "        predicted.append(out[i][0])\n",
    "        print(out[i], y_test[i], y_test[i]-out[i])\n"
   ]
  },
  {
   "cell_type": "code",
   "execution_count": null,
   "metadata": {},
   "outputs": [],
   "source": [
    "plt.plot(sx, sy)\n",
    "plt.ylim((0.5, 200))\n",
    "plt.xlabel(\"Iteration\")\n",
    "plt.ylabel('Mean Loss')\n",
    "plt.title(\"Loss vs Iterations\")\n",
    "plt.savefig('loss_vs_iter.png', dpi=1080)\n",
    "plt.show()"
   ]
  },
  {
   "cell_type": "code",
   "execution_count": 27,
   "metadata": {},
   "outputs": [
    {
     "data": {
      "image/png": "[encoded data removed]",
      "text/plain": [
       "<matplotlib.figure.Figure at 0x1bb26f62fd0>"
      ]
     },
     "metadata": {},
     "output_type": "display_data"
    }
   ],
   "source": [
    "plt.scatter(predicted, real)\n",
    "plt.xlabel(\"Predicted Expenditure per Adult\")\n",
    "plt.ylabel(\"Actual Expenditure per Adult\")\n",
    "plt.title(\"Predicted vs Real Expenditure per Adult\")\n",
    "plt.savefig('predicted_vs_real_exp.png', dpi=1080)\n",
    "plt.show()"
   ]
  },
  {
   "cell_type": "code",
   "execution_count": 28,
   "metadata": {},
   "outputs": [
    {
     "data": {
      "text/plain": [
       "131.28250501549763"
      ]
     },
     "execution_count": 28,
     "metadata": {},
     "output_type": "execute_result"
    }
   ],
   "source": [
    "predicted = np.asarray(predicted)\n",
    "real = np.asarray(real)\n",
    "np.mean(np.abs(predicted-real))"
   ]
  },
  {
   "cell_type": "code",
   "execution_count": 29,
   "metadata": {},
   "outputs": [
    {
     "data": {
      "text/plain": [
       "(0.6755124489556433, 0.00040443966701801513)"
      ]
     },
     "execution_count": 29,
     "metadata": {},
     "output_type": "execute_result"
    }
   ],
   "source": [
    "pearsonr(real, predicted)"
   ]
  },
  {
   "cell_type": "code",
   "execution_count": null,
   "metadata": {},
   "outputs": [],
   "source": []
  },
  {
   "cell_type": "code",
   "execution_count": null,
   "metadata": {},
   "outputs": [],
   "source": [
    "df.head()"
   ]
  },
  {
   "cell_type": "code",
   "execution_count": null,
   "metadata": {
    "collapsed": true
   },
   "outputs": [],
   "source": []
  }
 ],
 "metadata": {
  "kernelspec": {
   "display_name": "Python 3",
   "language": "python",
   "name": "python3"
  },
  "language_info": {
   "codemirror_mode": {
    "name": "ipython",
    "version": 3
   },
   "file_extension": ".py",
   "mimetype": "text/x-python",
   "name": "python",
   "nbconvert_exporter": "python",
   "pygments_lexer": "ipython3",
   "version": "3.6.3"
  }
 },
 "nbformat": 4,
 "nbformat_minor": 2
}
