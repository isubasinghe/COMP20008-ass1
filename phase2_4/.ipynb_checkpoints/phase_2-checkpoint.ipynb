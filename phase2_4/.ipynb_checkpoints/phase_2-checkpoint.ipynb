{
 "cells": [
  {
   "cell_type": "code",
   "execution_count": 1,
   "metadata": {},
   "outputs": [],
   "source": [
    "import matplotlib.pyplot as plt\n",
    "import pandas as pd\n",
    "import numpy as np\n",
    "from collections import defaultdict\n",
    "from scipy.stats import pearsonr\n",
    "from sklearn.metrics.cluster import normalized_mutual_info_score as nmi_score\n",
    "%matplotlib inline"
   ]
  },
  {
   "cell_type": "code",
   "execution_count": 2,
   "metadata": {},
   "outputs": [],
   "source": [
    "crime = pd.read_csv('./crime.csv')\n",
    "crime.columns = ['year', 'lga', 'offence', 'sub', 'subsub', 'incidents', 'rate']"
   ]
  },
  {
   "cell_type": "code",
   "execution_count": 3,
   "metadata": {},
   "outputs": [],
   "source": [
    "def clean_data(df):\n",
    "    df['incidents'] = df['incidents'].apply(lambda x: int(x.replace(',', '')))\n",
    "    df['rate'] = df['rate'].apply(lambda x: float(x.replace(',', '')))\n",
    "    return df"
   ]
  },
  {
   "cell_type": "code",
   "execution_count": 4,
   "metadata": {},
   "outputs": [],
   "source": [
    "crime = clean_data(crime)"
   ]
  },
  {
   "cell_type": "code",
   "execution_count": 5,
   "metadata": {},
   "outputs": [],
   "source": [
    "def filter_lga(df, col='lga'):\n",
    "    df[col] = df[col].apply(lambda x: x.upper())\n",
    "    df[col] = df[col].apply(lambda x: \n",
    "                            x.replace('CITY', '')\n",
    "                            .replace('OF', '')\n",
    "                            .replace('-', ' ')\n",
    "                            .replace('RURAL', '')\n",
    "                            .replace(\"SHIRE\", '')\n",
    "                            .strip())\n",
    "    return df"
   ]
  },
  {
   "cell_type": "code",
   "execution_count": 6,
   "metadata": {},
   "outputs": [],
   "source": [
    "def get_overlap(df1, df2):\n",
    "    return set(df1['lga']).intersection(set(df2['lga']))"
   ]
  },
  {
   "cell_type": "code",
   "execution_count": 7,
   "metadata": {},
   "outputs": [],
   "source": [
    "def common_cols(*args, col='lga'):\n",
    "    if len(args) < 2:\n",
    "        print(\"Need more than 1\")\n",
    "        return -1\n",
    "    ddf = args[0]\n",
    "    ndf = args[1]\n",
    "    common = set(ddf[col]).intersection(set(ndf[col]))\n",
    "    for i in range(3,len(args)):\n",
    "        ndf = args[i]\n",
    "        common = common.intersection(set(ndf[col]))\n",
    "    return common\n",
    "        "
   ]
  },
  {
   "cell_type": "code",
   "execution_count": 8,
   "metadata": {},
   "outputs": [],
   "source": [
    "def set_game_cols(df):\n",
    "    df.columns = ['lga', 'lga_code', 'reg', 'net', 'dis_score', 'dis_rank_s', 'dis_rank_c', 'dis_rank_m', 'advdis_score', 'advdis_rank_s', 'advdis_rank_c', 'advdis_rank_m', 'pop', 'per_venue', 'per_1000_adults', 'per_adult', 'workforce', 'unemployed', 'urate']\n",
    "    return df"
   ]
  },
  {
   "cell_type": "code",
   "execution_count": 9,
   "metadata": {},
   "outputs": [],
   "source": [
    "gmbling17 = pd.read_csv('./gambling-2017.csv')\n",
    "gmbling17 = set_game_cols(gmbling17)\n",
    "gmbling17 = filter_lga(gmbling17, col='lga')\n",
    "common = common_cols(gmbling17, crime, col='lga')\n",
    "gmbling17 = gmbling17[gmbling17['lga'].isin(common)]\n",
    "crime = crime[crime['lga'].isin(common)]\n",
    "crime17 = crime[crime['year']==2017]"
   ]
  },
  {
   "cell_type": "code",
   "execution_count": 10,
   "metadata": {},
   "outputs": [],
   "source": [
    "def venue_vs_crime():\n",
    "    y = crime17.groupby('lga').sum().reset_index().drop('year', axis=1).sort_values('lga')['rate']\n",
    "    x = gmbling17.sort_values('lga')['per_adult']\n",
    "    x = x.apply(lambda x: x.replace(',', '').strip())\n",
    "    x = x.apply(lambda x: np.nan if '-' in x else float(x))\n",
    "    x = list(x)\n",
    "    y = list(y)\n",
    "    nx = []\n",
    "    ny = []\n",
    "    for i in range(0,len(x)):\n",
    "        if np.isnan(x[i]):\n",
    "            continue\n",
    "        else:\n",
    "            nx.append(x[i])\n",
    "            ny.append(y[i])\n",
    "    print(pearsonr(nx, ny))\n",
    "    plt.scatter(nx,ny)\n",
    "    plt.xlabel('Expenditure per adult')\n",
    "    plt.ylabel('Crime Rate per 100,000')\n",
    "    plt.savefig('exp_crime.png', dpi=1080)\n",
    "    plt.show()"
   ]
  },
  {
   "cell_type": "code",
   "execution_count": 11,
   "metadata": {
    "scrolled": true
   },
   "outputs": [
    {
     "name": "stdout",
     "output_type": "stream",
     "text": [
      "(0.45025910781391804, 0.0001168631207104621)\n"
     ]
    },
    {
     "data": {
      "image/png": "[encoded data removed]",
      "text/plain": [
       "<matplotlib.figure.Figure at 0x1a8cd07ae80>"
      ]
     },
     "metadata": {},
     "output_type": "display_data"
    }
   ],
   "source": [
    "venue_vs_crime()"
   ]
  },
  {
   "cell_type": "code",
   "execution_count": 12,
   "metadata": {},
   "outputs": [],
   "source": [
    "def unem_vs_exp_ad():\n",
    "    y = gmbling17.sort_values('lga')['per_adult']\n",
    "    x = gmbling17.sort_values('lga')['urate']\n",
    "    x = x.apply(lambda x: float(x.replace('%', '').strip()))\n",
    "    y = y.apply(lambda x: np.nan if '-' in x else float(x))\n",
    "    df = pd.DataFrame({'x': x, 'y': y})\n",
    "    df = df.dropna()\n",
    "    print(pearsonr(df['x'], df['y']))\n",
    "    plt.scatter(df['x'],df['y'])\n",
    "    plt.xlabel('Unemployment rate')\n",
    "    plt.ylabel('Expenditure per adult')\n",
    "    plt.savefig('urate_exp.png', dpi=1080)\n",
    "    plt.show()"
   ]
  },
  {
   "cell_type": "code",
   "execution_count": 13,
   "metadata": {},
   "outputs": [
    {
     "name": "stdout",
     "output_type": "stream",
     "text": [
      "(0.6221642144560382, 1.4830349778724958e-08)\n"
     ]
    },
    {
     "data": {
      "image/png": "[encoded data removed]",
      "text/plain": [
       "<matplotlib.figure.Figure at 0x1a8df7b2f60>"
      ]
     },
     "metadata": {},
     "output_type": "display_data"
    }
   ],
   "source": [
    "unem_vs_exp_ad()"
   ]
  },
  {
   "cell_type": "code",
   "execution_count": 14,
   "metadata": {},
   "outputs": [
    {
     "name": "stdout",
     "output_type": "stream",
     "text": [
      "(0.3823434665533191, 0.0012925553462341571)\n"
     ]
    },
    {
     "data": {
      "image/png": "[encoded data removed]",
      "text/plain": [
       "<matplotlib.figure.Figure at 0x1a8df811d68>"
      ]
     },
     "metadata": {},
     "output_type": "display_data"
    }
   ],
   "source": [
    "theft17 = crime17[crime17['sub'].apply(lambda x: 'B40' in x)]\n",
    "y = theft17.groupby('lga').sum().reset_index().sort_values('lga')['rate']\n",
    "x = gmbling17.sort_values('lga')['per_adult']\n",
    "x = x.apply(lambda x: x.replace(',', ''))\n",
    "x = x.apply(lambda x: np.nan if '-' in x else float(x))\n",
    "x = list(x)\n",
    "y = list(y)\n",
    "\n",
    "nx = []\n",
    "ny = []\n",
    "for i in range(0, len(x)):\n",
    "    if np.isnan(x[i]):\n",
    "        continue\n",
    "    else:\n",
    "        nx.append(x[i])\n",
    "        ny.append(y[i])\n",
    "print(pearsonr(nx, ny))\n",
    "plt.scatter(nx, ny)\n",
    "plt.xlabel('Expenditure per Adult')\n",
    "plt.ylabel('Financial Related Crime rate per 100,000')\n",
    "plt.savefig('exp_fcrime.png', dpi=1080)\n",
    "plt.show()"
   ]
  },
  {
   "cell_type": "code",
   "execution_count": 15,
   "metadata": {},
   "outputs": [],
   "source": [
    "def get_noise_outliers_q1_q3(s):\n",
    "    med = s.median()\n",
    "    lower = s[s < med]\n",
    "    upper = s[s > med]\n",
    "    iqr = upper.median() - lower.median()\n",
    "    noise_upper = upper.median() + (iqr*1.5)\n",
    "    noise_lower = lower.median() - (iqr*1.5)\n",
    "    max_upper  =  upper.median() + (iqr*3)\n",
    "    max_lower = lower.median() - (iqr*3)\n",
    "    noise = sum(((s < noise_lower) & (s > max_lower))) + sum(((s > noise_upper) & (s < max_upper)))\n",
    "    outliers = sum( s > max_upper) + sum(s < max_lower)\n",
    "    return noise, outliers, lower.median(), upper.median()"
   ]
  },
  {
   "cell_type": "code",
   "execution_count": 16,
   "metadata": {},
   "outputs": [],
   "source": [
    "lga_crime = crime17.groupby('lga').sum().reset_index().drop('year', axis=1)"
   ]
  },
  {
   "cell_type": "code",
   "execution_count": 17,
   "metadata": {},
   "outputs": [
    {
     "data": {
      "text/plain": [
       "(0, 0, 962.1300000000001, 1025.04)"
      ]
     },
     "execution_count": 17,
     "metadata": {},
     "output_type": "execute_result"
    }
   ],
   "source": [
    "s = gmbling17['dis_score'].apply(lambda x: float(x))\n",
    "get_noise_outliers_q1_q3(s)"
   ]
  },
  {
   "cell_type": "code",
   "execution_count": 18,
   "metadata": {},
   "outputs": [
    {
     "name": "stdout",
     "output_type": "stream",
     "text": [
      "2.9411764705882355 1.4705882352941178\n",
      "5714.0 11616.0\n"
     ]
    }
   ],
   "source": [
    "s = gmbling17['per_venue'].apply(lambda x: np.nan if '-' in x else float(x.replace(',', '')))\n",
    "n,o,mi,ma = get_noise_outliers_q1_q3(s)\n",
    "s = s.dropna()\n",
    "print(100*n/len(s), 100*o/len(s))\n",
    "print(mi, ma)"
   ]
  },
  {
   "cell_type": "code",
   "execution_count": 19,
   "metadata": {},
   "outputs": [
    {
     "name": "stdout",
     "output_type": "stream",
     "text": [
      "0.0 0.0\n",
      "259.06 642.855\n"
     ]
    }
   ],
   "source": [
    "s = gmbling17['per_adult'].apply(lambda x: np.nan if '-' in x else float(x.replace(',', '')))\n",
    "n,o,mi,ma = get_noise_outliers_q1_q3(s)\n",
    "s = s.dropna()\n",
    "print(100*n/len(s), 100*o/len(s))\n",
    "print(mi, ma)"
   ]
  },
  {
   "cell_type": "code",
   "execution_count": 20,
   "metadata": {},
   "outputs": [
    {
     "name": "stdout",
     "output_type": "stream",
     "text": [
      "5.194805194805195 0.0\n",
      "4.015 6.265000000000001\n"
     ]
    }
   ],
   "source": [
    "s = gmbling17['urate'].apply(lambda x: np.nan if '-' in x else float(x.replace(',', '').replace('%', '')))\n",
    "n,o,mi,ma = get_noise_outliers_q1_q3(s)\n",
    "s = s.dropna()\n",
    "print(100*n/len(s), 100*o/len(s))\n",
    "print(mi, ma)"
   ]
  },
  {
   "cell_type": "code",
   "execution_count": 23,
   "metadata": {},
   "outputs": [
    {
     "name": "stdout",
     "output_type": "stream",
     "text": [
      "1.2987012987012987 1.2987012987012987\n",
      "4289.2 7299.8\n"
     ]
    }
   ],
   "source": [
    "s = lga_crime['rate']\n",
    "get_noise_outliers_q1_q3(s)\n",
    "n,o,mi,ma = get_noise_outliers_q1_q3(s)\n",
    "s = s.dropna()\n",
    "print(100*n/len(s), 100*o/len(s))\n",
    "print(mi, ma)"
   ]
  },
  {
   "cell_type": "code",
   "execution_count": 24,
   "metadata": {},
   "outputs": [
    {
     "name": "stdout",
     "output_type": "stream",
     "text": [
      "1.2987012987012987 0.0\n",
      "879.0 8220.0\n"
     ]
    }
   ],
   "source": [
    "s = lga_crime['incidents']\n",
    "get_noise_outliers_q1_q3(s)\n",
    "n,o,mi,ma = get_noise_outliers_q1_q3(s)\n",
    "s = s.dropna()\n",
    "print(100*n/len(s), 100*o/len(s))\n",
    "print(mi, ma)"
   ]
  },
  {
   "cell_type": "code",
   "execution_count": null,
   "metadata": {},
   "outputs": [],
   "source": []
  },
  {
   "cell_type": "code",
   "execution_count": null,
   "metadata": {},
   "outputs": [],
   "source": []
  },
  {
   "cell_type": "code",
   "execution_count": null,
   "metadata": {},
   "outputs": [],
   "source": []
  },
  {
   "cell_type": "code",
   "execution_count": null,
   "metadata": {},
   "outputs": [],
   "source": []
  },
  {
   "cell_type": "code",
   "execution_count": null,
   "metadata": {},
   "outputs": [],
   "source": []
  },
  {
   "cell_type": "code",
   "execution_count": null,
   "metadata": {},
   "outputs": [],
   "source": []
  }
 ],
 "metadata": {
  "kernelspec": {
   "display_name": "Python 3",
   "language": "python",
   "name": "python3"
  },
  "language_info": {
   "codemirror_mode": {
    "name": "ipython",
    "version": 3
   },
   "file_extension": ".py",
   "mimetype": "text/x-python",
   "name": "python",
   "nbconvert_exporter": "python",
   "pygments_lexer": "ipython3",
   "version": "3.6.4"
  }
 },
 "nbformat": 4,
 "nbformat_minor": 2
}
